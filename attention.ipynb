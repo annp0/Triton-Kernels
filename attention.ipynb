{
 "cells": [
  {
   "cell_type": "markdown",
   "id": "3fa7bd6f",
   "metadata": {},
   "source": [
    "Back prop for matmul:\n",
    "\n",
    "$$\n",
    "Y = WX, \\quad y_{ij} = \\sum_a w_{ia}x_{aj}\n",
    "$$\n",
    "\n",
    "Note that\n",
    "\n",
    "$$\n",
    "\\begin{align*}\n",
    "\\dfrac{\\partial y_{ij}}{\\partial x_{mn}}&=\\dfrac{\\partial}{\\partial x_{mn}}\\left(\\sum_aw_{ia}x_{aj}\\right)\\\\\n",
    "&=\\sum_a\\dfrac{\\partial}{\\partial x_{mn}}w_{ia}x_{aj}\\\\\n",
    "&=\\sum_a w_{ia}\\delta_{m,a}\\delta_{n,j}\\\\\n",
    "&=w_{im}\\delta_{n,j}\n",
    "\\end{align*}\n",
    "$$\n",
    "\n",
    "thus\n",
    "\n",
    "$$\n",
    "\\begin{align*}\n",
    "\\dfrac{\\partial L}{\\partial x_{mn}}&=\\sum_{ij}\\dfrac{\\partial L}{\\partial y_{ij}}\\dfrac{\\partial y_{ij}}{\\partial x_{mn}}\\\\\n",
    "&=\\sum_{ij}\\dfrac{\\partial L}{\\partial y_{ij}}w_{im}\\delta_{n,j}\\\\\n",
    "&=\\sum_{i}\\dfrac{\\partial L}{\\partial y_{in}}w_{im}\n",
    "\\end{align*}\n",
    "$$\n",
    "\n",
    "therefore\n",
    "\n",
    "$$\n",
    "\\left(\\dfrac{\\partial L}{\\partial X}\\right)=W^T\\left(\\dfrac{\\partial L}{\\partial Y}\\right)\n",
    "$$\n",
    "\n",
    "and similarly,\n",
    "\n",
    "$$\n",
    "\\dfrac{\\partial L}{\\partial W}=\\dfrac{\\partial L}{\\partial Y} X^T\n",
    "$$"
   ]
  }
 ],
 "metadata": {
  "language_info": {
   "name": "python"
  }
 },
 "nbformat": 4,
 "nbformat_minor": 5
}
